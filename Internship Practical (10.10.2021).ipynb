{
 "cells": [
  {
   "cell_type": "code",
   "execution_count": 1,
   "metadata": {},
   "outputs": [],
   "source": [
    "import cv2\n",
    "import numpy as np"
   ]
  },
  {
   "cell_type": "code",
   "execution_count": 2,
   "metadata": {},
   "outputs": [],
   "source": [
    "img = cv2.imread('image.jpg')"
   ]
  },
  {
   "cell_type": "code",
   "execution_count": 3,
   "metadata": {},
   "outputs": [],
   "source": [
    "cv2.imshow(\"Image\",img)\n",
    "cv2.waitKey()\n",
    "cv2.destroyAllWindows()"
   ]
  },
  {
   "cell_type": "code",
   "execution_count": 4,
   "metadata": {},
   "outputs": [
    {
     "data": {
      "text/plain": [
       "(720, 1280, 3)"
      ]
     },
     "execution_count": 4,
     "metadata": {},
     "output_type": "execute_result"
    }
   ],
   "source": [
    "img.shape"
   ]
  },
  {
   "cell_type": "code",
   "execution_count": 4,
   "metadata": {},
   "outputs": [
    {
     "name": "stdout",
     "output_type": "stream",
     "text": [
      "Height of Image: 720 pixels\n",
      "Width of Image: 1280 pixels\n"
     ]
    }
   ],
   "source": [
    "print(\"Height of Image: {} pixels\".format(img.shape[0]))\n",
    "print(\"Width of Image: {} pixels\".format(img.shape[1]))"
   ]
  },
  {
   "cell_type": "markdown",
   "metadata": {},
   "source": [
    "## Gray Scalling"
   ]
  },
  {
   "cell_type": "code",
   "execution_count": 6,
   "metadata": {},
   "outputs": [],
   "source": [
    "imgGray = cv2.cvtColor(img, cv2.COLOR_BGR2GRAY)\n",
    "cv2.imshow(\"Gray Scale Image\",imgGray)\n",
    "cv2.waitKey()\n",
    "cv2.destroyAllWindows()"
   ]
  },
  {
   "cell_type": "code",
   "execution_count": 7,
   "metadata": {},
   "outputs": [
    {
     "data": {
      "text/plain": [
       "(720, 1280)"
      ]
     },
     "execution_count": 7,
     "metadata": {},
     "output_type": "execute_result"
    }
   ],
   "source": [
    "imgGray.shape"
   ]
  },
  {
   "cell_type": "code",
   "execution_count": 8,
   "metadata": {},
   "outputs": [],
   "source": [
    "B, G, R = img[0,0]"
   ]
  },
  {
   "cell_type": "code",
   "execution_count": 9,
   "metadata": {},
   "outputs": [
    {
     "name": "stdout",
     "output_type": "stream",
     "text": [
      "218 138 91\n"
     ]
    }
   ],
   "source": [
    "print( B, G, R)"
   ]
  },
  {
   "cell_type": "code",
   "execution_count": 10,
   "metadata": {},
   "outputs": [],
   "source": [
    "B,G,R = cv2.split(img)"
   ]
  },
  {
   "cell_type": "code",
   "execution_count": 11,
   "metadata": {},
   "outputs": [
    {
     "name": "stdout",
     "output_type": "stream",
     "text": [
      "(720, 1280) (720, 1280) (720, 1280)\n"
     ]
    }
   ],
   "source": [
    "print(B.shape,G.shape, R.shape)"
   ]
  },
  {
   "cell_type": "code",
   "execution_count": 12,
   "metadata": {},
   "outputs": [],
   "source": [
    "cv2.imshow(\"Red Channel\",R)\n",
    "cv2.imshow(\"Green Channel\",G)\n",
    "cv2.imshow(\"Blue Channel\",B)\n",
    "cv2.waitKey()\n",
    "cv2.destroyAllWindows()"
   ]
  },
  {
   "cell_type": "markdown",
   "metadata": {},
   "source": [
    "## HSV Color Space"
   ]
  },
  {
   "cell_type": "code",
   "execution_count": 14,
   "metadata": {},
   "outputs": [],
   "source": [
    "imgHSV = cv2.cvtColor(img, cv2.COLOR_BGR2HSV)\n",
    "\n",
    "cv2.imshow(\"HSV Image\",imgHSV)\n",
    "cv2.imshow(\"Hue Channel\", imgHSV[:,:,0])\n",
    "cv2.imshow(\"Saturation Channel\", imgHSV[:,:,1])\n",
    "cv2.imshow(\"Value Channel\", imgHSV[:,:,2])\n",
    "\n",
    "cv2.waitKey()\n",
    "cv2.destroyAllWindows()"
   ]
  },
  {
   "cell_type": "code",
   "execution_count": 13,
   "metadata": {},
   "outputs": [],
   "source": [
    "B,G,R = cv2.split(img)\n",
    "\n",
    "\n",
    "imgMer = cv2.merge([B,G,R])\n",
    "cv2.imshow(\"Original Merged\", imgMer)\n",
    "imgMerB = cv2.merge([B+180,G,R])\n",
    "cv2.imshow(\"Blue Merged\", imgMerB)\n",
    "\n",
    "cv2.waitKey()\n",
    "cv2.destroyAllWindows()"
   ]
  },
  {
   "cell_type": "code",
   "execution_count": 13,
   "metadata": {},
   "outputs": [],
   "source": [
    "B,G,R = cv2.split(img)\n",
    "\n",
    "zeros = np.zeros(img.shape[:2],dtype=\"uint8\")\n",
    "\n",
    "cv2.imshow(\"Red Channel\",cv2.merge([zeros,zeros,R]))\n",
    "cv2.imshow(\"Green Channel\",cv2.merge([zeros,G,zeros]))\n",
    "cv2.imshow(\"Blue Channel\",cv2.merge([B,zeros,zeros]))\n",
    "\n",
    "cv2.waitKey()\n",
    "cv2.destroyAllWindows()"
   ]
  },
  {
   "cell_type": "code",
   "execution_count": 14,
   "metadata": {},
   "outputs": [],
   "source": [
    "img= cv2.imread(\"square.jpg\")\n",
    "h,w = img.shape[:2]\n",
    "\n",
    "h4, w4 = h/4, w/4\n",
    "\n",
    "T = np.float32([[1,0,h4],[0,1,w4]])\n",
    "\n",
    "imgTranslation = cv2.warpAffine(img,T,(w,h))\n",
    "\n",
    "cv2.imshow(\"Original Image\",img)\n",
    "cv2.imshow(\"Translation Image\", imgTranslation)\n",
    "cv2.waitKey()\n",
    "cv2.destroyAllWindows()"
   ]
  },
  {
   "cell_type": "code",
   "execution_count": 15,
   "metadata": {},
   "outputs": [],
   "source": [
    "img = cv2.imread('image.jpg')"
   ]
  },
  {
   "cell_type": "code",
   "execution_count": 16,
   "metadata": {},
   "outputs": [],
   "source": [
    "h,w = img.shape[:2]\n",
    "rotation_matrix = cv2.getRotationMatrix2D((w/2,h/2),60,1)\n",
    "\n",
    "imgRot = cv2.warpAffine(img, rotation_matrix,(w,h))\n",
    "\n",
    "cv2.imshow(\"Rotated Image\",imgRot)\n",
    "cv2.waitKey()\n",
    "cv2.destroyAllWindows()"
   ]
  },
  {
   "cell_type": "code",
   "execution_count": null,
   "metadata": {},
   "outputs": [],
   "source": [
    "img = cv2.imread('2lambo.jpg')\n",
    "\n",
    "cv2.imshow(\"Original Image\",img)\n",
    "imgSc= cv2.resize(img,None,fx=0.75,fy=0.75)\n",
    "cv2.imshow(\"Scaling - Linear Interpolation\",imgSc)\n",
    "# cv2.waitKey()\n",
    "\n",
    "imgSc = cv2.resize(img,None, fx=2,fy=2,interpolation= cv2.INTER_CUBIC)\n",
    "cv2.imshow(\"Scaling - Cubic Interpolation\",imgSc)\n",
    "\n",
    "\n",
    "imgSc = cv2.resize(img,(1280,960),interpolation = cv2.INTER_AREA)\n",
    "cv2.imshow(\"Scaling Skewed Size\", imgSc)\n",
    "\n",
    "cv2.waitKey()\n",
    "\n",
    "cv2.destroyAllWindows()"
   ]
  },
  {
   "cell_type": "code",
   "execution_count": 17,
   "metadata": {},
   "outputs": [],
   "source": [
    "M = np.ones(img.shape, dtype=\"uint8\")*75\n",
    "\n",
    "imgAdded = cv2.add(img,M)\n",
    "\n",
    "imgSub = cv2.subtract(img,M)\n",
    "\n",
    "cv2.imshow(\"Added\",imgAdded)\n",
    "cv2.imshow(\"SUbtracted\",imgSub)\n",
    "\n",
    "cv2.waitKey()\n",
    "cv2.destroyAllWindows()"
   ]
  },
  {
   "cell_type": "markdown",
   "metadata": {},
   "source": [
    "### Bitwise Operation"
   ]
  },
  {
   "cell_type": "code",
   "execution_count": 3,
   "metadata": {},
   "outputs": [],
   "source": [
    "square = np.zeros((300,300),np.uint8)\n",
    "cv2.rectangle(square,(50,50),(250,250),(255,255,255),-1)\n",
    "cv2.imshow(\"Square\",square)\n",
    "\n",
    "\n",
    "ellipse = np.zeros((300,300),np.uint8)\n",
    "cv2.ellipse(ellipse,(150,150),(150,150),30,0,180,255,-1)\n",
    "cv2.imshow(\"Ellipse\",ellipse)\n",
    "\n",
    "\n",
    "cv2.waitKey()\n",
    "cv2.destroyAllWindows()"
   ]
  },
  {
   "cell_type": "code",
   "execution_count": null,
   "metadata": {},
   "outputs": [],
   "source": [
    "imgAnd = cv2.bitwise_and(square,ellipse)\n",
    "cv2.imshow(\"And Image\",imgAnd)\n",
    "cv2.waitKey()\n",
    "\n",
    "\n",
    "cv2.destroyAllWindows()"
   ]
  },
  {
   "cell_type": "code",
   "execution_count": null,
   "metadata": {},
   "outputs": [],
   "source": [
    "imgOr = cv2.bitwise_or(square,ellipse)\n",
    "cv2.imshow(\"Or Image\",imgOr)\n",
    "cv2.waitKey()\n",
    "\n",
    "\n",
    "cv2.destroyAllWindows()"
   ]
  },
  {
   "cell_type": "code",
   "execution_count": null,
   "metadata": {},
   "outputs": [],
   "source": [
    "imgXor = cv2.bitwise_xor(square,ellipse)\n",
    "cv2.imshow(\"Xor Image\", imgXor)\n",
    "\n",
    "cv2.waitKey()\n",
    "cv2.destroyAllWindows()"
   ]
  },
  {
   "cell_type": "code",
   "execution_count": null,
   "metadata": {},
   "outputs": [],
   "source": [
    "imgNot = cv2.bitwise_not(square)\n",
    "cv2.imshow(\"Not Image\", imgNot)\n",
    "\n",
    "cv2.waitKey()\n",
    "cv2.destroyAllWindows()"
   ]
  },
  {
   "cell_type": "markdown",
   "metadata": {},
   "source": [
    "### Blurring"
   ]
  },
  {
   "cell_type": "code",
   "execution_count": 5,
   "metadata": {},
   "outputs": [],
   "source": [
    "img = cv2.imread(\"image.jpg\")\n",
    "\n",
    "\n",
    "cv2.imshow(\"Original Image\",img)\n",
    "kernel_3x3 = np.ones((3,3),np.float32) / 9\n",
    "imgBlur = cv2.filter2D(img,-1,kernel_3x3)\n",
    "cv2.imshow(\"Blurred Image\",imgBlur)\n",
    "\n",
    "cv2.waitKey()\n",
    "cv2.destroyAllWindows()"
   ]
  },
  {
   "cell_type": "code",
   "execution_count": null,
   "metadata": {},
   "outputs": [],
   "source": [
    "kernel_7x7 = np.ones((7,7),np.float32) / 49\n",
    "imgblur = cv2.filter2D(img,-1,kernel_7x7)\n",
    "cv2.imshow(\"Blurred Image\",imgblur)\n",
    "\n",
    "cv2.waitKey()\n",
    "cv2.destroyAllWindows()"
   ]
  },
  {
   "cell_type": "code",
   "execution_count": null,
   "metadata": {},
   "outputs": [],
   "source": [
    "cv2.imshow(\"Averaging\",cv2.blur(img,(3,3)))\n",
    "cv2.waitKey()\n",
    "cv2.destroyAllWindows()"
   ]
  },
  {
   "cell_type": "code",
   "execution_count": null,
   "metadata": {},
   "outputs": [],
   "source": [
    "cv2.imshow(\"Gaussian Blur\",cv2.GaussianBlur(img,(7,7),0))\n",
    "cv2.waitKey()\n",
    "cv2.destroyAllWindows()"
   ]
  },
  {
   "cell_type": "code",
   "execution_count": null,
   "metadata": {},
   "outputs": [],
   "source": [
    "cv2.imshow(\"Median Blur\",cv2.medianBlur(img,7))\n",
    "cv2.waitKey()\n",
    "cv2.destroyAllWindows()"
   ]
  },
  {
   "cell_type": "markdown",
   "metadata": {},
   "source": [
    "### Sharpening\n"
   ]
  },
  {
   "cell_type": "code",
   "execution_count": 5,
   "metadata": {},
   "outputs": [],
   "source": [
    "cv2.imshow(\"Original Image\",img)\n",
    "\n",
    "kernel_sharp = np.array([[-1,-1,-1],[-1,9,-1],[-1,-1,-1]])\n",
    "\n",
    "imgShp = cv2.filter2D(img,-1,kernel_sharp)\n",
    "\n",
    "cv2.imshow(\"Sharp Image\",imgShp)\n",
    "\n",
    "cv2.waitKey()\n",
    "cv2.destroyAllWindows()"
   ]
  },
  {
   "cell_type": "markdown",
   "metadata": {},
   "source": [
    "### Thresholding"
   ]
  },
  {
   "cell_type": "code",
   "execution_count": null,
   "metadata": {},
   "outputs": [],
   "source": [
    " "
   ]
  }
 ],
 "metadata": {
  "kernelspec": {
   "display_name": "Python 3",
   "language": "python",
   "name": "python3"
  },
  "language_info": {
   "codemirror_mode": {
    "name": "ipython",
    "version": 3
   },
   "file_extension": ".py",
   "mimetype": "text/x-python",
   "name": "python",
   "nbconvert_exporter": "python",
   "pygments_lexer": "ipython3",
   "version": "3.8.8"
  }
 },
 "nbformat": 4,
 "nbformat_minor": 4
}
