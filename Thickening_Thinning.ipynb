{
 "cells": [
  {
   "cell_type": "code",
   "execution_count": 21,
   "id": "c05200cb",
   "metadata": {},
   "outputs": [],
   "source": [
    "import cv2\n",
    "import numpy as np"
   ]
  },
  {
   "cell_type": "code",
   "execution_count": 9,
   "id": "449358e6",
   "metadata": {},
   "outputs": [],
   "source": [
    "img=cv2.imread('image_test.jpg')"
   ]
  },
  {
   "cell_type": "code",
   "execution_count": 10,
   "id": "b06576e8",
   "metadata": {},
   "outputs": [],
   "source": [
    "kernel = cv2.getStructuringElement(cv2.MORPH_RECT,(3,3))"
   ]
  },
  {
   "cell_type": "code",
   "execution_count": 11,
   "id": "da50260d",
   "metadata": {},
   "outputs": [
    {
     "data": {
      "text/plain": [
       "array([[1, 1, 1],\n",
       "       [1, 1, 1],\n",
       "       [1, 1, 1]], dtype=uint8)"
      ]
     },
     "execution_count": 11,
     "metadata": {},
     "output_type": "execute_result"
    }
   ],
   "source": [
    "kernel\n"
   ]
  },
  {
   "cell_type": "code",
   "execution_count": 24,
   "id": "79e55edd",
   "metadata": {},
   "outputs": [],
   "source": [
    "erosion = cv2.erode(x, kernel, iterations = 1)\n",
    "dilation = cv2.dilate(x, kernel, iterations=1)\n",
    "gradient=dilation-erosion"
   ]
  },
  {
   "cell_type": "code",
   "execution_count": 25,
   "id": "9033da32",
   "metadata": {},
   "outputs": [],
   "source": [
    "cv2.imshow('erosion',gradient)\n",
    "cv2.waitKey()\n",
    "cv2.destroyAllWindows()"
   ]
  },
  {
   "cell_type": "code",
   "execution_count": 22,
   "id": "971fa529",
   "metadata": {},
   "outputs": [],
   "source": [
    "x=np.zeros([667,1000],dtype='uint8')\n",
    "x=cv2.rectangle(x,(100,100),(720,720),(255,255,255),-1)"
   ]
  },
  {
   "cell_type": "code",
   "execution_count": null,
   "id": "08722823",
   "metadata": {},
   "outputs": [],
   "source": []
  }
 ],
 "metadata": {
  "kernelspec": {
   "display_name": "Python 3",
   "language": "python",
   "name": "python3"
  },
  "language_info": {
   "codemirror_mode": {
    "name": "ipython",
    "version": 3
   },
   "file_extension": ".py",
   "mimetype": "text/x-python",
   "name": "python",
   "nbconvert_exporter": "python",
   "pygments_lexer": "ipython3",
   "version": "3.8.8"
  }
 },
 "nbformat": 4,
 "nbformat_minor": 5
}
