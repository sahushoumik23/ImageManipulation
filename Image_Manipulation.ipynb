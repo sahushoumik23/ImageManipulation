{
 "cells": [
  {
   "cell_type": "code",
   "execution_count": 5,
   "id": "22532444",
   "metadata": {},
   "outputs": [],
   "source": [
    "import cv2\n",
    "import numpy as np"
   ]
  },
  {
   "cell_type": "code",
   "execution_count": 6,
   "id": "b0195201",
   "metadata": {},
   "outputs": [],
   "source": [
    "img=cv2.imread('image_test.jpg',cv2.IMREAD_UNCHANGED)"
   ]
  },
  {
   "cell_type": "code",
   "execution_count": 7,
   "id": "c09e9cc6",
   "metadata": {},
   "outputs": [
    {
     "data": {
      "text/plain": [
       "(667, 1000, 3)"
      ]
     },
     "execution_count": 7,
     "metadata": {},
     "output_type": "execute_result"
    }
   ],
   "source": [
    "np.shape(img)"
   ]
  },
  {
   "cell_type": "code",
   "execution_count": 10,
   "id": "cfbfdbc6",
   "metadata": {},
   "outputs": [],
   "source": [
    "# Image Sharpening\n",
    "kernel = np.array([[0, -1, 0],\n",
    "                   [-1, 5,-1],\n",
    "                   [0, -1, 0]])\n",
    "image_sharp = cv2.filter2D(src=img, ddepth=-1, kernel=kernel)\n",
    "# Image Blur\n",
    "image_blur= cv2.GaussianBlur(img,np.shape(kernel),cv2.BORDER_DEFAULT)\n",
    "# Cropped Image\n",
    "image_crop= img[80:280, 150:330]\n",
    "# Masked Image\n",
    "x=np.zeros([667,1000],dtype='uint8')\n",
    "x=cv2.rectangle(x,(100,100),(720,720),(255,255,255),-1)\n",
    "image_mask=cv2.bitwise_and(img,img,mask=x)\n",
    "# Resizing Image\n",
    "scale_percent=50\n",
    "width=int(img.shape[0]*scale_percent/100)\n",
    "height=int(img.shape[1]* scale_percent/100)\n",
    "dim=(width,height)\n",
    "# dim=(600,400)\n",
    "image_resize=cv2.resize(img,dim,interpolation=cv2.INTER_AREA)\n",
    "\n",
    "# Output\n",
    "cv2.imshow('Original Image',img)\n",
    "cv2.imshow('Sharpened Image', image_sharp)\n",
    "cv2.imshow('Blurred Image', image_blur)\n",
    "cv2.imshow('Cropped Image', image_crop)\n",
    "cv2.imshow('Masked Image', image_mask)\n",
    "cv2.imshow('Resized Image', image_resize)\n",
    "cv2.waitKey()\n",
    "cv2.destroyAllWindows()"
   ]
  },
  {
   "cell_type": "code",
   "execution_count": null,
   "id": "eb2c9d89",
   "metadata": {},
   "outputs": [],
   "source": [
    "x=cv2.resize(img,dim,interpolation=cv2.INTER_CUBIC)\n",
    "cv2.imshow('Hello',x)\n",
    "cv2.waitKey()\n",
    "cv2.destroyAllWindows()"
   ]
  },
  {
   "cell_type": "code",
   "execution_count": null,
   "id": "36858bc0",
   "metadata": {},
   "outputs": [],
   "source": []
  }
 ],
 "metadata": {
  "kernelspec": {
   "display_name": "Python 3",
   "language": "python",
   "name": "python3"
  },
  "language_info": {
   "codemirror_mode": {
    "name": "ipython",
    "version": 3
   },
   "file_extension": ".py",
   "mimetype": "text/x-python",
   "name": "python",
   "nbconvert_exporter": "python",
   "pygments_lexer": "ipython3",
   "version": "3.8.8"
  }
 },
 "nbformat": 4,
 "nbformat_minor": 5
}
