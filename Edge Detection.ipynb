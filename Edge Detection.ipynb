{
 "cells": [
  {
   "cell_type": "code",
   "execution_count": 1,
   "id": "faadfa5a",
   "metadata": {},
   "outputs": [],
   "source": [
    "import cv2\n",
    "import numpy as np\n",
    "\n",
    "img = cv2.imread('image_test.jpg')\n",
    "gray = cv2.cvtColor(img, cv2.COLOR_BGR2GRAY)\n",
    "img_gaussian = cv2.GaussianBlur(gray,(3,3),0)\n",
    "\n",
    "#canny\n",
    "img_canny = cv2.Canny(img,100,200)\n",
    "\n",
    "#sobel\n",
    "img_sobelx = cv2.Sobel(img_gaussian,cv2.CV_8U,1,0,ksize=5)\n",
    "img_sobely = cv2.Sobel(img_gaussian,cv2.CV_8U,0,1,ksize=5)\n",
    "img_sobel = img_sobelx + img_sobely\n",
    "\n",
    "\n",
    "#prewitt\n",
    "kernelx = np.array([[1,1,1],[0,0,0],[-1,-1,-1]])\n",
    "kernely = np.array([[-1,0,1],[-1,0,1],[-1,0,1]])\n",
    "img_prewittx = cv2.filter2D(img_gaussian, -1, kernelx)\n",
    "img_prewitty = cv2.filter2D(img_gaussian, -1, kernely)\n",
    "\n",
    "\n",
    "cv2.imshow(\"Original Image\", img)\n",
    "cv2.imshow(\"Canny\", img_canny)\n",
    "cv2.imshow(\"Sobel X\", img_sobelx)\n",
    "cv2.imshow(\"Sobel Y\", img_sobely)\n",
    "cv2.imshow(\"Sobel\", img_sobel)\n",
    "cv2.imshow(\"Prewitt X\", img_prewittx)\n",
    "cv2.imshow(\"Prewitt Y\", img_prewitty)\n",
    "cv2.imshow(\"Prewitt\", img_prewittx + img_prewitty)\n",
    "\n",
    "\n",
    "cv2.waitKey(0)\n",
    "cv2.destroyAllWindows()\n"
   ]
  },
  {
   "cell_type": "code",
   "execution_count": null,
   "id": "82a3ee12",
   "metadata": {},
   "outputs": [],
   "source": []
  }
 ],
 "metadata": {
  "kernelspec": {
   "display_name": "Python 3",
   "language": "python",
   "name": "python3"
  },
  "language_info": {
   "codemirror_mode": {
    "name": "ipython",
    "version": 3
   },
   "file_extension": ".py",
   "mimetype": "text/x-python",
   "name": "python",
   "nbconvert_exporter": "python",
   "pygments_lexer": "ipython3",
   "version": "3.8.8"
  }
 },
 "nbformat": 4,
 "nbformat_minor": 5
}
